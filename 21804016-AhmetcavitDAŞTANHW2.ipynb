way=float(input('Please choose a way between 3 :'))
if way > 3:
    print('There is no way like that,please try again.')
elif way < 1:
    print('There is no way like that,please try again.')
if way == 1:
    print('This way calculates hypotenuse.')
    a=int(input('Please enter the 1. edge :'))
    b=int(input('Please enter the 2. edge :'))
    if a == 0:
        print('This number cant be calculated, try another one.')
    if b == 0:
        print('This number cant be calculated, try another one.')
    if a!=0 and b!=0:
        Hypotenuse=((a**2)+(b**2))**0.5
        print('Hypotenuse',hypotenuse)
    if way == 2:
    print('It prints 1 to the number you enter.')
    t=int(input('Please enter the number:'))
    i = 1
    if i < z:
        Number=(z) 
        while i <=Number:
            print(i)
            if i ==(Number):
                break
            i += 1
    if i > z:
        Say�=(z-1) 
        while i >= z:
            print(i)
            if i == (Number):
                break
            i -= 1    
    if way == 3:
        print('This way calculates arythmetic mean of 6 choosen number.') 
        a=int(input('Enter the 1. number:'))
        b=int(input('Enter the 2. number:'))
        c=int(input('Enter the 3. number:'))
        d=int(input('Enter the 4. number:'))
        e=int(input('Enter the 5. number:'))
        f=int(input('Enter the 6. number:'))
    
        ary=(a+b+c+d+e+f)/6
        print('Arythmetic mean:',ary)
else :  print('Please enter a integer.')