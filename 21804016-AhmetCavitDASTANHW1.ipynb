value1 = int(input("Enter a number:"))
value2 = int(input("Enter a second number:"))
value3 = int(input("Enter a third number:"))
total = 0
if value1 < 0 : value1=-value1
if value2 < 0 : value2=-value2
if value3 < 0 : value3=-value3
result_of_discriminant=(value2**2 - 4*value1*value3)
print('Your discriminant is:', result_of_discriminant)
result_of_X1=(-value2 + result_of_discriminant**0.5/2*value1)
result_of_X2=(-value2 - result_of_discriminant**0.5/2*value1)
print('Your X1 is:', result_of_X1)
print('Your X2 is:', result_of_X2)
