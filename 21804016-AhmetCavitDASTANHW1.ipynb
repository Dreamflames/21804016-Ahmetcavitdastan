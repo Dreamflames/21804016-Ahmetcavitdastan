{
 "cells": [
  {
   "cell_type": "code",
   "execution_count": 1,
   "metadata": {},
   "outputs": [
    {
     "name": "stdout",
     "output_type": "stream",
     "text": [
      "Enter a number:1\n",
      "Enter a second number:5\n",
      "Enter a third number:6\n",
      "Your discriminant is: 1\n",
      "Your X1 is: -2.0\n",
      "Your X2 is: -3.0\n"
     ]
    }
   ],
   "source": [
    "value1 = int(input(\"Enter a number:\"))\n",
    "value2 = int(input(\"Enter a second number:\"))\n",
    "value3 = int(input(\"Enter a third number:\"))\n",
    "result_of_discriminant=((value2**2) - (4*value1*value3))\n",
    "print('Your discriminant is:',result_of_discriminant)\n",
    "result_of_X1=((-value2 + result_of_discriminant**0.5)/2*value1)\n",
    "result_of_X2=((-value2 - result_of_discriminant**0.5)/2*value1)\n",
    "print('Your X1 is:' ,result_of_X1)\n",
    "print('Your X2 is:' ,result_of_X2)"
   ]
  },
  {
   "cell_type": "code",
   "execution_count": null,
   "metadata": {},
   "outputs": [],
   "source": []
  }
 ],
 "metadata": {
  "kernelspec": {
   "display_name": "Python 3",
   "language": "python",
   "name": "python3"
  },
  "language_info": {
   "codemirror_mode": {
    "name": "ipython",
    "version": 3
   },
   "file_extension": ".py",
   "mimetype": "text/x-python",
   "name": "python",
   "nbconvert_exporter": "python",
   "pygments_lexer": "ipython3",
   "version": "3.6.5"
  }
 },
 "nbformat": 4,
 "nbformat_minor": 2
}
